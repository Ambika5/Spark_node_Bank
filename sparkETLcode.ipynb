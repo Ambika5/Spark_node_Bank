{
 "cells": [
  {
   "cell_type": "code",
   "execution_count": 1,
   "id": "44005891",
   "metadata": {},
   "outputs": [
    {
     "data": {
      "application/vnd.jupyter.widget-view+json": {
       "model_id": "90b469c9e5744147b2ac33b6efb73ce0",
       "version_major": 2,
       "version_minor": 0
      },
      "text/plain": [
       "VBox()"
      ]
     },
     "metadata": {},
     "output_type": "display_data"
    },
    {
     "name": "stdout",
     "output_type": "stream",
     "text": [
      "Starting Spark application\n"
     ]
    },
    {
     "data": {
      "text/html": [
       "<table>\n",
       "<tr><th>ID</th><th>YARN Application ID</th><th>Kind</th><th>State</th><th>Spark UI</th><th>Driver log</th><th>Current session?</th></tr><tr><td>4</td><td>application_1666873856107_0006</td><td>pyspark</td><td>idle</td><td><a target=\"_blank\" href=\"http://ip-172-31-52-12.ec2.internal:20888/proxy/application_1666873856107_0006/\">Link</a></td><td><a target=\"_blank\" href=\"http://ip-172-31-52-12.ec2.internal:8042/node/containerlogs/container_1666873856107_0006_01_000001/livy\">Link</a></td><td>✔</td></tr></table>"
      ],
      "text/plain": [
       "<IPython.core.display.HTML object>"
      ]
     },
     "metadata": {},
     "output_type": "display_data"
    },
    {
     "data": {
      "application/vnd.jupyter.widget-view+json": {
       "model_id": "",
       "version_major": 2,
       "version_minor": 0
      },
      "text/plain": [
       "FloatProgress(value=0.0, bar_style='info', description='Progress:', layout=Layout(height='25px', width='50%'),…"
      ]
     },
     "metadata": {},
     "output_type": "display_data"
    },
    {
     "name": "stdout",
     "output_type": "stream",
     "text": [
      "SparkSession available as 'spark'.\n"
     ]
    },
    {
     "data": {
      "application/vnd.jupyter.widget-view+json": {
       "model_id": "",
       "version_major": 2,
       "version_minor": 0
      },
      "text/plain": [
       "FloatProgress(value=0.0, bar_style='info', description='Progress:', layout=Layout(height='25px', width='50%'),…"
      ]
     },
     "metadata": {},
     "output_type": "display_data"
    },
    {
     "name": "stdout",
     "output_type": "stream",
     "text": [
      "<pyspark.sql.session.SparkSession object at 0x7fb9bb2b4c50>"
     ]
    }
   ],
   "source": [
    "spark"
   ]
  },
  {
   "cell_type": "code",
   "execution_count": 2,
   "id": "2d3d294b",
   "metadata": {},
   "outputs": [
    {
     "data": {
      "application/vnd.jupyter.widget-view+json": {
       "model_id": "d5f58af76fc1457996e0aa5078c784ab",
       "version_major": 2,
       "version_minor": 0
      },
      "text/plain": [
       "VBox()"
      ]
     },
     "metadata": {},
     "output_type": "display_data"
    },
    {
     "data": {
      "application/vnd.jupyter.widget-view+json": {
       "model_id": "",
       "version_major": 2,
       "version_minor": 0
      },
      "text/plain": [
       "FloatProgress(value=0.0, bar_style='info', description='Progress:', layout=Layout(height='25px', width='50%'),…"
      ]
     },
     "metadata": {},
     "output_type": "display_data"
    }
   ],
   "source": [
    "file1 = spark.read.load(\"/user/root/SRC_ATM_TRANS/part-m-00000\", format = \"csv\", inferSchema = True, header = True)"
   ]
  },
  {
   "cell_type": "code",
   "execution_count": 3,
   "id": "3e1a682b",
   "metadata": {},
   "outputs": [
    {
     "data": {
      "application/vnd.jupyter.widget-view+json": {
       "model_id": "ecd986497a4d4a5c8e0f5c020afdf1cd",
       "version_major": 2,
       "version_minor": 0
      },
      "text/plain": [
       "VBox()"
      ]
     },
     "metadata": {},
     "output_type": "display_data"
    },
    {
     "data": {
      "application/vnd.jupyter.widget-view+json": {
       "model_id": "",
       "version_major": 2,
       "version_minor": 0
      },
      "text/plain": [
       "FloatProgress(value=0.0, bar_style='info', description='Progress:', layout=Layout(height='25px', width='50%'),…"
      ]
     },
     "metadata": {},
     "output_type": "display_data"
    },
    {
     "name": "stdout",
     "output_type": "stream",
     "text": [
      "+----+-------+---+------+---+--------+---+---------------+-----------+-------------------+---+----+------+------+---+------------------+----+----------+----+----+------+------+-------+--------------+-------+----+---+---+---+-----+---+---+-------+--------------------+\n",
      "|2017|January| 12|Sunday|  0|  Active| 16|            NCR| NÃƒÂ¦stved|        Farimagsvej|  8|4700|55.233|11.763|DKK|        MasterCard|5643|Withdrawal|_c18|_c19|55.230|11.761|2616038|      Naestved|281.150|1014| 87|  7|260|0.215| 92|500|   Rain|          light rain|\n",
      "+----+-------+---+------+---+--------+---+---------------+-----------+-------------------+---+----+------+------+---+------------------+----+----------+----+----+------+------+-------+--------------+-------+----+---+---+---+-----+---+---+-------+--------------------+\n",
      "|2017|January|  1|Sunday|  0|Inactive|  2|            NCR|   Vejgaard|         Hadsundvej| 20|9000|57.043|  9.95|DKK|        MasterCard|1764|Withdrawal|null|null|57.048| 9.935|2616235|NÃƒÂ¸rresundby| 280.64|1020| 93|  9|250| 0.59| 92|500|   Rain|          light rain|\n",
      "|2017|January|  1|Sunday|  0|Inactive|  2|            NCR|   Vejgaard|         Hadsundvej| 20|9000|57.043|  9.95|DKK|              VISA|1891|Withdrawal|null|null|57.048| 9.935|2616235|NÃƒÂ¸rresundby| 280.64|1020| 93|  9|250| 0.59| 92|500|   Rain|          light rain|\n",
      "|2017|January|  1|Sunday|  0|Inactive|  3|            NCR|      Ikast|RÃƒÂ¥dhusstrÃƒÂ¦det| 12|7430|56.139| 9.154|DKK|              VISA|4166|Withdrawal|null|null|56.139| 9.158|2619426|         Ikast| 281.15|1011|100|  6|240|  0.0| 75|300|Drizzle|light intensity d...|\n",
      "|2017|January|  1|Sunday|  0|  Active|  4|            NCR| Svogerslev|       BrÃƒÂ¸nsager|  1|4000|55.634|12.018|DKK|        MasterCard|5153|Withdrawal|null|null|55.642| 12.08|2614481|      Roskilde| 280.61|1014| 87|  7|260|  0.0| 88|701|   Mist|                mist|\n",
      "|2017|January|  1|Sunday|  0|  Active|  5|            NCR|       Nibe|             Torvet|  1|9240|56.983| 9.639|DKK|        MasterCard|3269|Withdrawal|null|null|56.981| 9.639|2616483|          Nibe| 280.64|1020| 93|  9|250| 0.59| 92|500|   Rain|          light rain|\n",
      "|2017|January|  1|Sunday|  0|  Active|  6|            NCR| Fredericia|   SjÃƒÂ¦llandsgade| 33|7000|55.564| 9.757|DKK|        MasterCard| 887|Withdrawal|null|null|55.566| 9.753|2621951|    Fredericia| 281.15|1014| 93|  7|230| 0.29| 92|500|   Rain|          light rain|\n",
      "|2017|January|  1|Sunday|  0|  Active|  7|Diebold Nixdorf|  Hjallerup|  Hjallerup Centret| 18|9320|57.168|10.148|DKK|Mastercard - on-us|4626|Withdrawal|null|null|57.165|10.146|2620275|     Hjallerup| 280.64|1020| 93|  9|250| 0.59| 92|500|   Rain|          light rain|\n",
      "|2017|January|  1|Sunday|  0|  Active|  8|            NCR|GlyngÃƒÂ¸re|        FÃƒÂ¦rgevej|  1|7870|56.762| 8.867|DKK|        MasterCard| 470|Withdrawal|null|null|56.793| 8.853|2615964| Nykobing Mors| 281.15|1011|100|  6|240|  0.0| 75|300|Drizzle|light intensity d...|\n",
      "+----+-------+---+------+---+--------+---+---------------+-----------+-------------------+---+----+------+------+---+------------------+----+----------+----+----+------+------+-------+--------------+-------+----+---+---+---+-----+---+---+-------+--------------------+\n",
      "only showing top 8 rows"
     ]
    }
   ],
   "source": [
    "file1.show(8)"
   ]
  },
  {
   "cell_type": "code",
   "execution_count": 4,
   "id": "e87b403c",
   "metadata": {},
   "outputs": [
    {
     "data": {
      "application/vnd.jupyter.widget-view+json": {
       "model_id": "7e4f3ec66f7040bd8f63ebfbe9e4b100",
       "version_major": 2,
       "version_minor": 0
      },
      "text/plain": [
       "VBox()"
      ]
     },
     "metadata": {},
     "output_type": "display_data"
    },
    {
     "data": {
      "application/vnd.jupyter.widget-view+json": {
       "model_id": "",
       "version_major": 2,
       "version_minor": 0
      },
      "text/plain": [
       "FloatProgress(value=0.0, bar_style='info', description='Progress:', layout=Layout(height='25px', width='50%'),…"
      ]
     },
     "metadata": {},
     "output_type": "display_data"
    }
   ],
   "source": [
    "from pyspark.sql.types import StructType, StructField, IntegerType, StringType, BooleanType, DoubleType, LongType"
   ]
  },
  {
   "cell_type": "code",
   "execution_count": 5,
   "id": "ae3f6ca1",
   "metadata": {},
   "outputs": [
    {
     "data": {
      "application/vnd.jupyter.widget-view+json": {
       "model_id": "05fac429878847788fccb5c9eb387d67",
       "version_major": 2,
       "version_minor": 0
      },
      "text/plain": [
       "VBox()"
      ]
     },
     "metadata": {},
     "output_type": "display_data"
    },
    {
     "data": {
      "application/vnd.jupyter.widget-view+json": {
       "model_id": "",
       "version_major": 2,
       "version_minor": 0
      },
      "text/plain": [
       "FloatProgress(value=0.0, bar_style='info', description='Progress:', layout=Layout(height='25px', width='50%'),…"
      ]
     },
     "metadata": {},
     "output_type": "display_data"
    }
   ],
   "source": [
    "newSchema = StructType([StructField('year', IntegerType(), nullable = False),\n",
    "                        StructField('month', StringType(), False),\n",
    "                        StructField('day', IntegerType(), False),\n",
    "                        StructField('weekday', StringType(), False),\n",
    "                        StructField('hour', IntegerType(), False),\n",
    "                        StructField('atm_status', StringType(), False),\n",
    "                        StructField('atm_id', StringType(), False),\n",
    "                        StructField('atm_manufacturer', StringType(), False),\n",
    "                        StructField('atm_location', StringType(), False),\n",
    "                        StructField('atm_streetname', StringType(), False),\n",
    "                        StructField('atm_street_number', IntegerType(), False),\n",
    "                        StructField('atm_zipcode', IntegerType(), False),\n",
    "                        StructField('atm_lat', DoubleType(), False),\n",
    "                        StructField('atm_lon', DoubleType(), False),\n",
    "                        StructField('currency', StringType(), False),\n",
    "                        StructField('card_type', StringType(), False),\n",
    "                        StructField('transaction_amount', IntegerType(), False),\n",
    "                        StructField('service', StringType(), False),\n",
    "                        StructField('message_code', StringType(), True),\n",
    "                        StructField('message_text', StringType(), True),\n",
    "                        StructField('weather_lat', DoubleType(), False),\n",
    "                        StructField('weather_lon', DoubleType(), False),\n",
    "                        StructField('weather_city_id', IntegerType(), False),\n",
    "                        StructField('weather_city_name', StringType(), False),\n",
    "                        StructField('temp', DoubleType(), False),\n",
    "                        StructField('pressure', IntegerType(), False),\n",
    "                        StructField('humidity', IntegerType(), False),\n",
    "                        StructField('wind_speed', IntegerType(), False),\n",
    "                        StructField('wind_deg', IntegerType(), False),\n",
    "                        StructField('rain_3h', DoubleType(), True),\n",
    "                        StructField('clouds_all', IntegerType(),False),\n",
    "                        StructField('weather_id', IntegerType(), False),\n",
    "                        StructField('weather_main', StringType(), False),\n",
    "                        StructField('weather_description', StringType(), False)])\n"
   ]
  },
  {
   "cell_type": "code",
   "execution_count": 6,
   "id": "1c9306d5",
   "metadata": {},
   "outputs": [
    {
     "data": {
      "application/vnd.jupyter.widget-view+json": {
       "model_id": "d7f45f318b0543998236de6d5bc67a0d",
       "version_major": 2,
       "version_minor": 0
      },
      "text/plain": [
       "VBox()"
      ]
     },
     "metadata": {},
     "output_type": "display_data"
    },
    {
     "data": {
      "application/vnd.jupyter.widget-view+json": {
       "model_id": "",
       "version_major": 2,
       "version_minor": 0
      },
      "text/plain": [
       "FloatProgress(value=0.0, bar_style='info', description='Progress:', layout=Layout(height='25px', width='50%'),…"
      ]
     },
     "metadata": {},
     "output_type": "display_data"
    }
   ],
   "source": [
    "df1 = spark.read.csv(\"/user/root/SRC_ATM_TRANS/part-m-00000\", header = False, schema = newSchema)"
   ]
  },
  {
   "cell_type": "code",
   "execution_count": 7,
   "id": "74890088",
   "metadata": {},
   "outputs": [
    {
     "data": {
      "application/vnd.jupyter.widget-view+json": {
       "model_id": "958a2e1912814d698fb429faa0327290",
       "version_major": 2,
       "version_minor": 0
      },
      "text/plain": [
       "VBox()"
      ]
     },
     "metadata": {},
     "output_type": "display_data"
    },
    {
     "data": {
      "application/vnd.jupyter.widget-view+json": {
       "model_id": "",
       "version_major": 2,
       "version_minor": 0
      },
      "text/plain": [
       "FloatProgress(value=0.0, bar_style='info', description='Progress:', layout=Layout(height='25px', width='50%'),…"
      ]
     },
     "metadata": {},
     "output_type": "display_data"
    },
    {
     "name": "stdout",
     "output_type": "stream",
     "text": [
      "+----+-------+---+-------+----+----------+------+----------------+------------+-------------------+-----------------+-----------+-------+-------+--------+------------------+------------------+----------+------------+------------+-----------+-----------+---------------+-----------------+------+--------+--------+----------+--------+-------+----------+----------+------------+--------------------+\n",
      "|year|  month|day|weekday|hour|atm_status|atm_id|atm_manufacturer|atm_location|     atm_streetname|atm_street_number|atm_zipcode|atm_lat|atm_lon|currency|         card_type|transaction_amount|   service|message_code|message_text|weather_lat|weather_lon|weather_city_id|weather_city_name|  temp|pressure|humidity|wind_speed|wind_deg|rain_3h|clouds_all|weather_id|weather_main| weather_description|\n",
      "+----+-------+---+-------+----+----------+------+----------------+------------+-------------------+-----------------+-----------+-------+-------+--------+------------------+------------------+----------+------------+------------+-----------+-----------+---------------+-----------------+------+--------+--------+----------+--------+-------+----------+----------+------------+--------------------+\n",
      "|2017|January|  1| Sunday|   0|    Active|     1|             NCR|  NÃƒÂ¦stved|        Farimagsvej|                8|       4700| 55.233| 11.763|     DKK|        MasterCard|              5643|Withdrawal|        null|        null|      55.23|     11.761|        2616038|         Naestved|281.15|    1014|      87|         7|     260|  0.215|        92|       500|        Rain|          light rain|\n",
      "|2017|January|  1| Sunday|   0|  Inactive|     2|             NCR|    Vejgaard|         Hadsundvej|               20|       9000| 57.043|   9.95|     DKK|        MasterCard|              1764|Withdrawal|        null|        null|     57.048|      9.935|        2616235|   NÃƒÂ¸rresundby|280.64|    1020|      93|         9|     250|   0.59|        92|       500|        Rain|          light rain|\n",
      "|2017|January|  1| Sunday|   0|  Inactive|     2|             NCR|    Vejgaard|         Hadsundvej|               20|       9000| 57.043|   9.95|     DKK|              VISA|              1891|Withdrawal|        null|        null|     57.048|      9.935|        2616235|   NÃƒÂ¸rresundby|280.64|    1020|      93|         9|     250|   0.59|        92|       500|        Rain|          light rain|\n",
      "|2017|January|  1| Sunday|   0|  Inactive|     3|             NCR|       Ikast|RÃƒÂ¥dhusstrÃƒÂ¦det|               12|       7430| 56.139|  9.154|     DKK|              VISA|              4166|Withdrawal|        null|        null|     56.139|      9.158|        2619426|            Ikast|281.15|    1011|     100|         6|     240|    0.0|        75|       300|     Drizzle|light intensity d...|\n",
      "|2017|January|  1| Sunday|   0|    Active|     4|             NCR|  Svogerslev|       BrÃƒÂ¸nsager|                1|       4000| 55.634| 12.018|     DKK|        MasterCard|              5153|Withdrawal|        null|        null|     55.642|      12.08|        2614481|         Roskilde|280.61|    1014|      87|         7|     260|    0.0|        88|       701|        Mist|                mist|\n",
      "|2017|January|  1| Sunday|   0|    Active|     5|             NCR|        Nibe|             Torvet|                1|       9240| 56.983|  9.639|     DKK|        MasterCard|              3269|Withdrawal|        null|        null|     56.981|      9.639|        2616483|             Nibe|280.64|    1020|      93|         9|     250|   0.59|        92|       500|        Rain|          light rain|\n",
      "|2017|January|  1| Sunday|   0|    Active|     6|             NCR|  Fredericia|   SjÃƒÂ¦llandsgade|               33|       7000| 55.564|  9.757|     DKK|        MasterCard|               887|Withdrawal|        null|        null|     55.566|      9.753|        2621951|       Fredericia|281.15|    1014|      93|         7|     230|   0.29|        92|       500|        Rain|          light rain|\n",
      "|2017|January|  1| Sunday|   0|    Active|     7| Diebold Nixdorf|   Hjallerup|  Hjallerup Centret|               18|       9320| 57.168| 10.148|     DKK|Mastercard - on-us|              4626|Withdrawal|        null|        null|     57.165|     10.146|        2620275|        Hjallerup|280.64|    1020|      93|         9|     250|   0.59|        92|       500|        Rain|          light rain|\n",
      "+----+-------+---+-------+----+----------+------+----------------+------------+-------------------+-----------------+-----------+-------+-------+--------+------------------+------------------+----------+------------+------------+-----------+-----------+---------------+-----------------+------+--------+--------+----------+--------+-------+----------+----------+------------+--------------------+\n",
      "only showing top 8 rows"
     ]
    }
   ],
   "source": [
    "df1.show(8)"
   ]
  },
  {
   "cell_type": "code",
   "execution_count": 8,
   "id": "8ec1b741",
   "metadata": {},
   "outputs": [
    {
     "data": {
      "application/vnd.jupyter.widget-view+json": {
       "model_id": "864b5f985bc54b8f970a356097574b1d",
       "version_major": 2,
       "version_minor": 0
      },
      "text/plain": [
       "VBox()"
      ]
     },
     "metadata": {},
     "output_type": "display_data"
    },
    {
     "data": {
      "application/vnd.jupyter.widget-view+json": {
       "model_id": "",
       "version_major": 2,
       "version_minor": 0
      },
      "text/plain": [
       "FloatProgress(value=0.0, bar_style='info', description='Progress:', layout=Layout(height='25px', width='50%'),…"
      ]
     },
     "metadata": {},
     "output_type": "display_data"
    },
    {
     "name": "stdout",
     "output_type": "stream",
     "text": [
      "root\n",
      " |-- year: integer (nullable = true)\n",
      " |-- month: string (nullable = true)\n",
      " |-- day: integer (nullable = true)\n",
      " |-- weekday: string (nullable = true)\n",
      " |-- hour: integer (nullable = true)\n",
      " |-- atm_status: string (nullable = true)\n",
      " |-- atm_id: string (nullable = true)\n",
      " |-- atm_manufacturer: string (nullable = true)\n",
      " |-- atm_location: string (nullable = true)\n",
      " |-- atm_streetname: string (nullable = true)\n",
      " |-- atm_street_number: integer (nullable = true)\n",
      " |-- atm_zipcode: integer (nullable = true)\n",
      " |-- atm_lat: double (nullable = true)\n",
      " |-- atm_lon: double (nullable = true)\n",
      " |-- currency: string (nullable = true)\n",
      " |-- card_type: string (nullable = true)\n",
      " |-- transaction_amount: integer (nullable = true)\n",
      " |-- service: string (nullable = true)\n",
      " |-- message_code: string (nullable = true)\n",
      " |-- message_text: string (nullable = true)\n",
      " |-- weather_lat: double (nullable = true)\n",
      " |-- weather_lon: double (nullable = true)\n",
      " |-- weather_city_id: integer (nullable = true)\n",
      " |-- weather_city_name: string (nullable = true)\n",
      " |-- temp: double (nullable = true)\n",
      " |-- pressure: integer (nullable = true)\n",
      " |-- humidity: integer (nullable = true)\n",
      " |-- wind_speed: integer (nullable = true)\n",
      " |-- wind_deg: integer (nullable = true)\n",
      " |-- rain_3h: double (nullable = true)\n",
      " |-- clouds_all: integer (nullable = true)\n",
      " |-- weather_id: integer (nullable = true)\n",
      " |-- weather_main: string (nullable = true)\n",
      " |-- weather_description: string (nullable = true)"
     ]
    }
   ],
   "source": [
    "df1.printSchema()"
   ]
  },
  {
   "cell_type": "code",
   "execution_count": 9,
   "id": "0651e2e8",
   "metadata": {},
   "outputs": [
    {
     "data": {
      "application/vnd.jupyter.widget-view+json": {
       "model_id": "7216f3c2cafe470ca690e102783413f9",
       "version_major": 2,
       "version_minor": 0
      },
      "text/plain": [
       "VBox()"
      ]
     },
     "metadata": {},
     "output_type": "display_data"
    },
    {
     "data": {
      "application/vnd.jupyter.widget-view+json": {
       "model_id": "",
       "version_major": 2,
       "version_minor": 0
      },
      "text/plain": [
       "FloatProgress(value=0.0, bar_style='info', description='Progress:', layout=Layout(height='25px', width='50%'),…"
      ]
     },
     "metadata": {},
     "output_type": "display_data"
    },
    {
     "name": "stdout",
     "output_type": "stream",
     "text": [
      "2468572"
     ]
    }
   ],
   "source": [
    "#Checking  count of data after importing data into a dataframe\n",
    "df1.count()"
   ]
  },
  {
   "cell_type": "markdown",
   "id": "5a48736d",
   "metadata": {},
   "source": [
    "Creating dimensions Table"
   ]
  },
  {
   "cell_type": "code",
   "execution_count": 10,
   "id": "2b45c057",
   "metadata": {},
   "outputs": [
    {
     "data": {
      "application/vnd.jupyter.widget-view+json": {
       "model_id": "e15461fa389246f79636044cf06d5eb2",
       "version_major": 2,
       "version_minor": 0
      },
      "text/plain": [
       "VBox()"
      ]
     },
     "metadata": {},
     "output_type": "display_data"
    },
    {
     "data": {
      "application/vnd.jupyter.widget-view+json": {
       "model_id": "",
       "version_major": 2,
       "version_minor": 0
      },
      "text/plain": [
       "FloatProgress(value=0.0, bar_style='info', description='Progress:', layout=Layout(height='25px', width='50%'),…"
      ]
     },
     "metadata": {},
     "output_type": "display_data"
    }
   ],
   "source": [
    "from pyspark.sql.types import *\n",
    "from pyspark.sql.window import Window\n",
    "from pyspark.sql.functions import *"
   ]
  },
  {
   "cell_type": "code",
   "execution_count": 11,
   "id": "8c2ad0ae",
   "metadata": {},
   "outputs": [
    {
     "data": {
      "application/vnd.jupyter.widget-view+json": {
       "model_id": "e227440ace00495694464531571e3097",
       "version_major": 2,
       "version_minor": 0
      },
      "text/plain": [
       "VBox()"
      ]
     },
     "metadata": {},
     "output_type": "display_data"
    },
    {
     "data": {
      "application/vnd.jupyter.widget-view+json": {
       "model_id": "",
       "version_major": 2,
       "version_minor": 0
      },
      "text/plain": [
       "FloatProgress(value=0.0, bar_style='info', description='Progress:', layout=Layout(height='25px', width='50%'),…"
      ]
     },
     "metadata": {},
     "output_type": "display_data"
    }
   ],
   "source": [
    "location = df1.select('atm_location', 'atm_streetname', 'atm_street_number', 'atm_zipcode', 'atm_lat', 'atm_lon').distinct()"
   ]
  },
  {
   "cell_type": "code",
   "execution_count": 12,
   "id": "f866aa5b",
   "metadata": {},
   "outputs": [
    {
     "data": {
      "application/vnd.jupyter.widget-view+json": {
       "model_id": "db4206f23ae548f4b83dec3e57587430",
       "version_major": 2,
       "version_minor": 0
      },
      "text/plain": [
       "VBox()"
      ]
     },
     "metadata": {},
     "output_type": "display_data"
    },
    {
     "data": {
      "application/vnd.jupyter.widget-view+json": {
       "model_id": "",
       "version_major": 2,
       "version_minor": 0
      },
      "text/plain": [
       "FloatProgress(value=0.0, bar_style='info', description='Progress:', layout=Layout(height='25px', width='50%'),…"
      ]
     },
     "metadata": {},
     "output_type": "display_data"
    },
    {
     "name": "stdout",
     "output_type": "stream",
     "text": [
      "+----------------+-------------------+-----------------+-----------+-------+-------+\n",
      "|    atm_location|     atm_streetname|atm_street_number|atm_zipcode|atm_lat|atm_lon|\n",
      "+----------------+-------------------+-----------------+-----------+-------+-------+\n",
      "|         Kolding|           Vejlevej|              135|       6000| 55.505|  9.457|\n",
      "|  Skelagervej 15|        Skelagervej|               15|       9000| 57.023|  9.891|\n",
      "|Intern HolbÃƒÂ¦k|        Slotsvolden|                7|       4300| 55.718| 11.704|\n",
      "|          Odense|       FÃƒÂ¦lledvej|                3|       5000| 55.394|  10.37|\n",
      "|           Ikast|RÃƒÂ¥dhusstrÃƒÂ¦det|               12|       7430| 56.139|  9.154|\n",
      "|         Randers|       ÃƒËœstervold|               16|       8900| 56.462| 10.038|\n",
      "|         Esbjerg|       Strandbygade|               20|       6700| 55.468|   8.44|\n",
      "|          Lyngby|        Jernbanevej|                6|       2800| 55.772|   12.5|\n",
      "|           Skive|           Adelgade|                8|       7800| 56.567|  9.027|\n",
      "|           Durup|             Torvet|                4|       7870| 56.745|  8.949|\n",
      "+----------------+-------------------+-----------------+-----------+-------+-------+\n",
      "only showing top 10 rows"
     ]
    }
   ],
   "source": [
    "location.show(10)"
   ]
  },
  {
   "cell_type": "markdown",
   "id": "811be6a0",
   "metadata": {},
   "source": [
    "# now we are going to add unique location id column and rearranging the columns"
   ]
  },
  {
   "cell_type": "markdown",
   "id": "701e3538",
   "metadata": {},
   "source": [
    "The zipWithIndex() function is only available within RDDs. You cannot use it directly on a DataFrame. Convert your DataFrame to a RDD, apply zipWithIndex() to your data, and then convert the RDD back to a DataFrame\n"
   ]
  },
  {
   "cell_type": "code",
   "execution_count": 13,
   "id": "144a6b11",
   "metadata": {},
   "outputs": [
    {
     "data": {
      "application/vnd.jupyter.widget-view+json": {
       "model_id": "827f8a0e19ae4d7cb793f7cc070429bb",
       "version_major": 2,
       "version_minor": 0
      },
      "text/plain": [
       "VBox()"
      ]
     },
     "metadata": {},
     "output_type": "display_data"
    },
    {
     "data": {
      "application/vnd.jupyter.widget-view+json": {
       "model_id": "",
       "version_major": 2,
       "version_minor": 0
      },
      "text/plain": [
       "FloatProgress(value=0.0, bar_style='info', description='Progress:', layout=Layout(height='25px', width='50%'),…"
      ]
     },
     "metadata": {},
     "output_type": "display_data"
    }
   ],
   "source": [
    "location1=location.select('atm_location', 'atm_streetname', 'atm_street_number', 'atm_zipcode', 'atm_lat', 'atm_lon',row_number().over(Window.partitionBy().orderBy(location['atm_location'])).alias(\"location_id\"))"
   ]
  },
  {
   "cell_type": "code",
   "execution_count": 14,
   "id": "4121a36b",
   "metadata": {},
   "outputs": [
    {
     "data": {
      "application/vnd.jupyter.widget-view+json": {
       "model_id": "a4e621e3cc974358883b61aa52c708cc",
       "version_major": 2,
       "version_minor": 0
      },
      "text/plain": [
       "VBox()"
      ]
     },
     "metadata": {},
     "output_type": "display_data"
    },
    {
     "data": {
      "application/vnd.jupyter.widget-view+json": {
       "model_id": "",
       "version_major": 2,
       "version_minor": 0
      },
      "text/plain": [
       "FloatProgress(value=0.0, bar_style='info', description='Progress:', layout=Layout(height='25px', width='50%'),…"
      ]
     },
     "metadata": {},
     "output_type": "display_data"
    },
    {
     "name": "stdout",
     "output_type": "stream",
     "text": [
      "+--------------------+------------------+-----------------+-----------+-------+-------+-----------+\n",
      "|        atm_location|    atm_streetname|atm_street_number|atm_zipcode|atm_lat|atm_lon|location_id|\n",
      "+--------------------+------------------+-----------------+-----------+-------+-------+-----------+\n",
      "|             Aabybro|      ÃƒËœstergade|                6|       9440| 57.162|   9.73|          1|\n",
      "|      Aalborg Hallen|      Europa Plads|                4|       9000| 57.044|  9.913|          2|\n",
      "|Aalborg Storcente...|          Hobrovej|              452|       9200| 57.005|  9.876|          3|\n",
      "|Aalborg Storcente...|          Hobrovej|              452|       9200| 57.005|  9.876|          4|\n",
      "|         Aalborg Syd|          Hobrovej|              440|       9200| 57.005|  9.881|          5|\n",
      "|           AalbÃƒÂ¦k|        Centralvej|                5|       9982| 57.593| 10.412|          6|\n",
      "|              Aarhus|    SÃƒÂ¸nder Alle|               11|       8000| 56.153| 10.206|          7|\n",
      "|              Aarhus|        Ceres Byen|               75|       8000| 56.157| 10.194|          8|\n",
      "|     Aarhus Lufthavn|   Ny Lufthavnsvej|               24|       8560| 56.308| 10.627|          9|\n",
      "|                Aars|   Himmerlandsgade|               70|       9600| 56.803|  9.518|         10|\n",
      "|          Abildgaard|    HjÃƒÂ¸rringvej|              144|       9900| 57.447| 10.506|         11|\n",
      "|               Arden|        Vestergade|                6|       9510| 56.769|  9.859|         12|\n",
      "|            Bindslev|       NÃƒÂ¸rrebro|               18|       9881| 57.541|   10.2|         13|\n",
      "|         Bispensgade|       Bispensgade|               35|       9800| 57.453|  9.996|         14|\n",
      "|         Brugsen ANS|SÃƒÂ¸ndermarksgade|               14|       8643| 56.306|  9.594|         15|\n",
      "|     Brugsen i Breum|     AakjÃƒÂ¦rsvej|                1|       7870| 56.688|  9.069|         16|\n",
      "|      Bryggen  Vejle|  SÃƒÂ¸nderbrogade|                2|       7100| 55.705|  9.532|         17|\n",
      "|      BrÃƒÂ¸nderslev|            Algade|                4|       9700| 57.269|  9.945|         18|\n",
      "|    DAYZ Feriecenter|        LivÃƒÂ¸vej|               80|       9681| 56.893|  9.171|         19|\n",
      "|Daglig Brugsen Ãƒ...|         Kystvejen|               51|       9560| 56.804| 10.271|         20|\n",
      "+--------------------+------------------+-----------------+-----------+-------+-------+-----------+\n",
      "only showing top 20 rows"
     ]
    }
   ],
   "source": [
    "location1.show()"
   ]
  },
  {
   "cell_type": "code",
   "execution_count": 15,
   "id": "f47c3c25",
   "metadata": {},
   "outputs": [
    {
     "data": {
      "application/vnd.jupyter.widget-view+json": {
       "model_id": "96d597b81f48455f9b8b76f4bea3f70d",
       "version_major": 2,
       "version_minor": 0
      },
      "text/plain": [
       "VBox()"
      ]
     },
     "metadata": {},
     "output_type": "display_data"
    },
    {
     "data": {
      "application/vnd.jupyter.widget-view+json": {
       "model_id": "",
       "version_major": 2,
       "version_minor": 0
      },
      "text/plain": [
       "FloatProgress(value=0.0, bar_style='info', description='Progress:', layout=Layout(height='25px', width='50%'),…"
      ]
     },
     "metadata": {},
     "output_type": "display_data"
    }
   ],
   "source": [
    "# renaming the colums and rearranging as per schema given\n",
    "DIM_LOCATION =location1.select('location_id','atm_location','atm_streetname','atm_street_number','atm_zipcode','atm_lat','atm_lon')\n"
   ]
  },
  {
   "cell_type": "code",
   "execution_count": 16,
   "id": "b9bba15f",
   "metadata": {},
   "outputs": [
    {
     "data": {
      "application/vnd.jupyter.widget-view+json": {
       "model_id": "275c58634f664756b658646996707f9b",
       "version_major": 2,
       "version_minor": 0
      },
      "text/plain": [
       "VBox()"
      ]
     },
     "metadata": {},
     "output_type": "display_data"
    },
    {
     "data": {
      "application/vnd.jupyter.widget-view+json": {
       "model_id": "",
       "version_major": 2,
       "version_minor": 0
      },
      "text/plain": [
       "FloatProgress(value=0.0, bar_style='info', description='Progress:', layout=Layout(height='25px', width='50%'),…"
      ]
     },
     "metadata": {},
     "output_type": "display_data"
    },
    {
     "name": "stdout",
     "output_type": "stream",
     "text": [
      "+-----------+--------------------+---------------+-----------------+-----------+-------+-------+\n",
      "|location_id|        atm_location| atm_streetname|atm_street_number|atm_zipcode|atm_lat|atm_lon|\n",
      "+-----------+--------------------+---------------+-----------------+-----------+-------+-------+\n",
      "|          1|             Aabybro|   ÃƒËœstergade|                6|       9440| 57.162|   9.73|\n",
      "|          2|      Aalborg Hallen|   Europa Plads|                4|       9000| 57.044|  9.913|\n",
      "|          3|Aalborg Storcente...|       Hobrovej|              452|       9200| 57.005|  9.876|\n",
      "|          4|Aalborg Storcente...|       Hobrovej|              452|       9200| 57.005|  9.876|\n",
      "|          5|         Aalborg Syd|       Hobrovej|              440|       9200| 57.005|  9.881|\n",
      "|          6|           AalbÃƒÂ¦k|     Centralvej|                5|       9982| 57.593| 10.412|\n",
      "|          7|              Aarhus| SÃƒÂ¸nder Alle|               11|       8000| 56.153| 10.206|\n",
      "|          8|              Aarhus|     Ceres Byen|               75|       8000| 56.157| 10.194|\n",
      "|          9|     Aarhus Lufthavn|Ny Lufthavnsvej|               24|       8560| 56.308| 10.627|\n",
      "|         10|                Aars|Himmerlandsgade|               70|       9600| 56.803|  9.518|\n",
      "+-----------+--------------------+---------------+-----------------+-----------+-------+-------+\n",
      "only showing top 10 rows"
     ]
    }
   ],
   "source": [
    "DIM_LOCATION.show(10)"
   ]
  },
  {
   "cell_type": "code",
   "execution_count": 17,
   "id": "36a1fcaf",
   "metadata": {},
   "outputs": [
    {
     "data": {
      "application/vnd.jupyter.widget-view+json": {
       "model_id": "e120fc075f04401c80553f3f6a4e5e25",
       "version_major": 2,
       "version_minor": 0
      },
      "text/plain": [
       "VBox()"
      ]
     },
     "metadata": {},
     "output_type": "display_data"
    },
    {
     "data": {
      "application/vnd.jupyter.widget-view+json": {
       "model_id": "",
       "version_major": 2,
       "version_minor": 0
      },
      "text/plain": [
       "FloatProgress(value=0.0, bar_style='info', description='Progress:', layout=Layout(height='25px', width='50%'),…"
      ]
     },
     "metadata": {},
     "output_type": "display_data"
    },
    {
     "name": "stdout",
     "output_type": "stream",
     "text": [
      "109"
     ]
    }
   ],
   "source": [
    "#Check count for the Location Dimension\n",
    "DIM_LOCATION.count()"
   ]
  },
  {
   "cell_type": "markdown",
   "id": "25fc4f1b",
   "metadata": {},
   "source": [
    "Required DIM_ATM schema"
   ]
  },
  {
   "cell_type": "code",
   "execution_count": 18,
   "id": "b5762e1e",
   "metadata": {},
   "outputs": [
    {
     "data": {
      "application/vnd.jupyter.widget-view+json": {
       "model_id": "bc9d636cef90487190f55dab2f7c78fa",
       "version_major": 2,
       "version_minor": 0
      },
      "text/plain": [
       "VBox()"
      ]
     },
     "metadata": {},
     "output_type": "display_data"
    },
    {
     "data": {
      "application/vnd.jupyter.widget-view+json": {
       "model_id": "",
       "version_major": 2,
       "version_minor": 0
      },
      "text/plain": [
       "FloatProgress(value=0.0, bar_style='info', description='Progress:', layout=Layout(height='25px', width='50%'),…"
      ]
     },
     "metadata": {},
     "output_type": "display_data"
    }
   ],
   "source": [
    "atm = df1.select('atm_id', 'atm_manufacturer', 'atm_location', 'atm_streetname', 'atm_street_number', 'atm_zipcode', 'atm_lat', 'atm_lon')"
   ]
  },
  {
   "cell_type": "code",
   "execution_count": 19,
   "id": "e49c9ed3",
   "metadata": {},
   "outputs": [
    {
     "data": {
      "application/vnd.jupyter.widget-view+json": {
       "model_id": "9a2e01a065f54179b128709e811e6596",
       "version_major": 2,
       "version_minor": 0
      },
      "text/plain": [
       "VBox()"
      ]
     },
     "metadata": {},
     "output_type": "display_data"
    },
    {
     "data": {
      "application/vnd.jupyter.widget-view+json": {
       "model_id": "",
       "version_major": 2,
       "version_minor": 0
      },
      "text/plain": [
       "FloatProgress(value=0.0, bar_style='info', description='Progress:', layout=Layout(height='25px', width='50%'),…"
      ]
     },
     "metadata": {},
     "output_type": "display_data"
    }
   ],
   "source": [
    "atm = atm.join(location1, on = ['atm_location', 'atm_streetname', 'atm_street_number', 'atm_zipcode', 'atm_lat', 'atm_lon'], how = \"left\")"
   ]
  },
  {
   "cell_type": "code",
   "execution_count": 20,
   "id": "107e735b",
   "metadata": {},
   "outputs": [
    {
     "data": {
      "application/vnd.jupyter.widget-view+json": {
       "model_id": "c93d6d78882742688138b0e2500b61f5",
       "version_major": 2,
       "version_minor": 0
      },
      "text/plain": [
       "VBox()"
      ]
     },
     "metadata": {},
     "output_type": "display_data"
    },
    {
     "data": {
      "application/vnd.jupyter.widget-view+json": {
       "model_id": "",
       "version_major": 2,
       "version_minor": 0
      },
      "text/plain": [
       "FloatProgress(value=0.0, bar_style='info', description='Progress:', layout=Layout(height='25px', width='50%'),…"
      ]
     },
     "metadata": {},
     "output_type": "display_data"
    }
   ],
   "source": [
    "# selecting the required columns and making sure records are distinct\n",
    "atm1 = atm.select('atm_id', 'atm_manufacturer', 'location_id').distinct()"
   ]
  },
  {
   "cell_type": "markdown",
   "id": "b59a96ba",
   "metadata": {},
   "source": [
    "# Making DIM ATM"
   ]
  },
  {
   "cell_type": "code",
   "execution_count": 21,
   "id": "d9db72f3",
   "metadata": {},
   "outputs": [
    {
     "data": {
      "application/vnd.jupyter.widget-view+json": {
       "model_id": "a7f3c47bb1f94a93b5bf5579eff56c6d",
       "version_major": 2,
       "version_minor": 0
      },
      "text/plain": [
       "VBox()"
      ]
     },
     "metadata": {},
     "output_type": "display_data"
    },
    {
     "data": {
      "application/vnd.jupyter.widget-view+json": {
       "model_id": "",
       "version_major": 2,
       "version_minor": 0
      },
      "text/plain": [
       "FloatProgress(value=0.0, bar_style='info', description='Progress:', layout=Layout(height='25px', width='50%'),…"
      ]
     },
     "metadata": {},
     "output_type": "display_data"
    }
   ],
   "source": [
    "atm2= atm1.select('atm_id', 'atm_manufacturer', 'location_id',row_number().over(Window.partitionBy().orderBy(atm1['atm_manufacturer'])).alias(\"atm_index\"))"
   ]
  },
  {
   "cell_type": "code",
   "execution_count": 22,
   "id": "02a28458",
   "metadata": {},
   "outputs": [
    {
     "data": {
      "application/vnd.jupyter.widget-view+json": {
       "model_id": "49ef79e6a03a4bb2bd301769c750b6cb",
       "version_major": 2,
       "version_minor": 0
      },
      "text/plain": [
       "VBox()"
      ]
     },
     "metadata": {},
     "output_type": "display_data"
    },
    {
     "data": {
      "application/vnd.jupyter.widget-view+json": {
       "model_id": "",
       "version_major": 2,
       "version_minor": 0
      },
      "text/plain": [
       "FloatProgress(value=0.0, bar_style='info', description='Progress:', layout=Layout(height='25px', width='50%'),…"
      ]
     },
     "metadata": {},
     "output_type": "display_data"
    },
    {
     "name": "stdout",
     "output_type": "stream",
     "text": [
      "+---------+------+----------------+-----------+\n",
      "|atm_index|atm_id|atm_manufacturer|location_id|\n",
      "+---------+------+----------------+-----------+\n",
      "|        1|   113| Diebold Nixdorf|         89|\n",
      "|        2|    56| Diebold Nixdorf|         64|\n",
      "|        3|   110| Diebold Nixdorf|         41|\n",
      "|        4|    78| Diebold Nixdorf|         71|\n",
      "|        5|    70| Diebold Nixdorf|         42|\n",
      "|        6|    48| Diebold Nixdorf|         18|\n",
      "|        7|    59| Diebold Nixdorf|         73|\n",
      "|        8|   111| Diebold Nixdorf|          8|\n",
      "|        9|    85| Diebold Nixdorf|         63|\n",
      "|       10|     9| Diebold Nixdorf|         31|\n",
      "|       11|   107| Diebold Nixdorf|         62|\n",
      "|       12|   103| Diebold Nixdorf|        103|\n",
      "|       13|   105| Diebold Nixdorf|         76|\n",
      "|       14|    18| Diebold Nixdorf|        105|\n",
      "|       15|    46| Diebold Nixdorf|         33|\n",
      "|       16|    62| Diebold Nixdorf|        101|\n",
      "|       17|   112| Diebold Nixdorf|         74|\n",
      "|       18|    41| Diebold Nixdorf|         82|\n",
      "|       19|     7| Diebold Nixdorf|         38|\n",
      "|       20|    40| Diebold Nixdorf|         27|\n",
      "+---------+------+----------------+-----------+\n",
      "only showing top 20 rows"
     ]
    }
   ],
   "source": [
    "DIM_ATM=atm2.select('atm_index','atm_id', 'atm_manufacturer', 'location_id')\n",
    "DIM_ATM.show()"
   ]
  },
  {
   "cell_type": "code",
   "execution_count": 23,
   "id": "ab01bcaf",
   "metadata": {},
   "outputs": [
    {
     "data": {
      "application/vnd.jupyter.widget-view+json": {
       "model_id": "941444127e9b4e4bb5c372f25f76232a",
       "version_major": 2,
       "version_minor": 0
      },
      "text/plain": [
       "VBox()"
      ]
     },
     "metadata": {},
     "output_type": "display_data"
    },
    {
     "data": {
      "application/vnd.jupyter.widget-view+json": {
       "model_id": "",
       "version_major": 2,
       "version_minor": 0
      },
      "text/plain": [
       "FloatProgress(value=0.0, bar_style='info', description='Progress:', layout=Layout(height='25px', width='50%'),…"
      ]
     },
     "metadata": {},
     "output_type": "display_data"
    },
    {
     "name": "stdout",
     "output_type": "stream",
     "text": [
      "113"
     ]
    }
   ],
   "source": [
    "#Check count for the ATM Dimension\n",
    "DIM_ATM.count()"
   ]
  },
  {
   "cell_type": "markdown",
   "id": "4b682c6b",
   "metadata": {},
   "source": [
    "# creating shcema for DIM DATE"
   ]
  },
  {
   "cell_type": "code",
   "execution_count": 24,
   "id": "34d24a19",
   "metadata": {},
   "outputs": [
    {
     "data": {
      "application/vnd.jupyter.widget-view+json": {
       "model_id": "d61f741850a6430ca9175cfdf18b60bc",
       "version_major": 2,
       "version_minor": 0
      },
      "text/plain": [
       "VBox()"
      ]
     },
     "metadata": {},
     "output_type": "display_data"
    },
    {
     "data": {
      "application/vnd.jupyter.widget-view+json": {
       "model_id": "",
       "version_major": 2,
       "version_minor": 0
      },
      "text/plain": [
       "FloatProgress(value=0.0, bar_style='info', description='Progress:', layout=Layout(height='25px', width='50%'),…"
      ]
     },
     "metadata": {},
     "output_type": "display_data"
    }
   ],
   "source": [
    "# creating a temporary df and selecting required columns\n",
    "date = df1.select('year', 'month', 'day', 'hour', 'weekday')"
   ]
  },
  {
   "cell_type": "code",
   "execution_count": 25,
   "id": "ef7ebb61",
   "metadata": {},
   "outputs": [
    {
     "data": {
      "application/vnd.jupyter.widget-view+json": {
       "model_id": "ab541a51a59540358baf417c97b22fc6",
       "version_major": 2,
       "version_minor": 0
      },
      "text/plain": [
       "VBox()"
      ]
     },
     "metadata": {},
     "output_type": "display_data"
    },
    {
     "data": {
      "application/vnd.jupyter.widget-view+json": {
       "model_id": "",
       "version_major": 2,
       "version_minor": 0
      },
      "text/plain": [
       "FloatProgress(value=0.0, bar_style='info', description='Progress:', layout=Layout(height='25px', width='50%'),…"
      ]
     },
     "metadata": {},
     "output_type": "display_data"
    }
   ],
   "source": [
    "#Concat_ws() will join two or more columns in the given PySpark DataFrame and add these values into a new column. It will separate each column’s values with a separator.\n",
    "#PySpark lit() function is used to add constant or literal value as a new column to the DataFrame.     \n",
    "# we are concating [year,month ,day] to form full_date and hour and adding lit(00) to make a complete time format alias is full_time\n",
    "\n",
    "date1=date.withColumn('full_date', concat_ws('-', date.year, date.month, date.day)).withColumn('full_time',concat_ws(':',date.hour,lit('00'),lit('00')))\n",
    "                                                    "
   ]
  },
  {
   "cell_type": "code",
   "execution_count": 26,
   "id": "617a667b",
   "metadata": {},
   "outputs": [
    {
     "data": {
      "application/vnd.jupyter.widget-view+json": {
       "model_id": "5f707f94dd624bd8b5ec9a996d504ac7",
       "version_major": 2,
       "version_minor": 0
      },
      "text/plain": [
       "VBox()"
      ]
     },
     "metadata": {},
     "output_type": "display_data"
    },
    {
     "data": {
      "application/vnd.jupyter.widget-view+json": {
       "model_id": "",
       "version_major": 2,
       "version_minor": 0
      },
      "text/plain": [
       "FloatProgress(value=0.0, bar_style='info', description='Progress:', layout=Layout(height='25px', width='50%'),…"
      ]
     },
     "metadata": {},
     "output_type": "display_data"
    },
    {
     "name": "stdout",
     "output_type": "stream",
     "text": [
      "+----+-------+---+----+-------+--------------+---------+--------------------+\n",
      "|year|  month|day|hour|weekday|     full_date|full_time|      full_date_time|\n",
      "+----+-------+---+----+-------+--------------+---------+--------------------+\n",
      "|2017|January|  1|   0| Sunday|2017-January-1|  0:00:00|2017-January-1 0:...|\n",
      "|2017|January|  1|   0| Sunday|2017-January-1|  0:00:00|2017-January-1 0:...|\n",
      "|2017|January|  1|   0| Sunday|2017-January-1|  0:00:00|2017-January-1 0:...|\n",
      "|2017|January|  1|   0| Sunday|2017-January-1|  0:00:00|2017-January-1 0:...|\n",
      "|2017|January|  1|   0| Sunday|2017-January-1|  0:00:00|2017-January-1 0:...|\n",
      "|2017|January|  1|   0| Sunday|2017-January-1|  0:00:00|2017-January-1 0:...|\n",
      "|2017|January|  1|   0| Sunday|2017-January-1|  0:00:00|2017-January-1 0:...|\n",
      "|2017|January|  1|   0| Sunday|2017-January-1|  0:00:00|2017-January-1 0:...|\n",
      "|2017|January|  1|   0| Sunday|2017-January-1|  0:00:00|2017-January-1 0:...|\n",
      "|2017|January|  1|   0| Sunday|2017-January-1|  0:00:00|2017-January-1 0:...|\n",
      "|2017|January|  1|   0| Sunday|2017-January-1|  0:00:00|2017-January-1 0:...|\n",
      "|2017|January|  1|   0| Sunday|2017-January-1|  0:00:00|2017-January-1 0:...|\n",
      "|2017|January|  1|   0| Sunday|2017-January-1|  0:00:00|2017-January-1 0:...|\n",
      "|2017|January|  1|   0| Sunday|2017-January-1|  0:00:00|2017-January-1 0:...|\n",
      "|2017|January|  1|   0| Sunday|2017-January-1|  0:00:00|2017-January-1 0:...|\n",
      "|2017|January|  1|   0| Sunday|2017-January-1|  0:00:00|2017-January-1 0:...|\n",
      "|2017|January|  1|   0| Sunday|2017-January-1|  0:00:00|2017-January-1 0:...|\n",
      "|2017|January|  1|   0| Sunday|2017-January-1|  0:00:00|2017-January-1 0:...|\n",
      "|2017|January|  1|   0| Sunday|2017-January-1|  0:00:00|2017-January-1 0:...|\n",
      "|2017|January|  1|   0| Sunday|2017-January-1|  0:00:00|2017-January-1 0:...|\n",
      "+----+-------+---+----+-------+--------------+---------+--------------------+\n",
      "only showing top 20 rows"
     ]
    }
   ],
   "source": [
    "date2=date1.withColumn('full_date_time',concat_ws(' ',date1.full_date,date1.full_time))\n",
    "date2.show()"
   ]
  },
  {
   "cell_type": "code",
   "execution_count": 27,
   "id": "460bdcbe",
   "metadata": {},
   "outputs": [
    {
     "data": {
      "application/vnd.jupyter.widget-view+json": {
       "model_id": "91870d9a085c45ad87b85ae857656bfa",
       "version_major": 2,
       "version_minor": 0
      },
      "text/plain": [
       "VBox()"
      ]
     },
     "metadata": {},
     "output_type": "display_data"
    },
    {
     "data": {
      "application/vnd.jupyter.widget-view+json": {
       "model_id": "",
       "version_major": 2,
       "version_minor": 0
      },
      "text/plain": [
       "FloatProgress(value=0.0, bar_style='info', description='Progress:', layout=Layout(height='25px', width='50%'),…"
      ]
     },
     "metadata": {},
     "output_type": "display_data"
    },
    {
     "name": "stdout",
     "output_type": "stream",
     "text": [
      "+----+--------+---+----+---------+----------------+---------+-------------------+\n",
      "|year|   month|day|hour|  weekday|       full_date|full_time|     full_date_time|\n",
      "+----+--------+---+----+---------+----------------+---------+-------------------+\n",
      "|2017|   March| 16|  20| Thursday|   2017-March-16| 20:00:00|2017-03-16 20:00:00|\n",
      "|2017|   March| 22|   0|Wednesday|   2017-March-22|  0:00:00|2017-03-22 00:00:00|\n",
      "|2017|   March| 18|  14| Saturday|   2017-March-18| 14:00:00|2017-03-18 14:00:00|\n",
      "|2017|February| 21|  18|  Tuesday|2017-February-21| 18:00:00|2017-02-21 18:00:00|\n",
      "|2017|   April|  4|  20|  Tuesday|    2017-April-4| 20:00:00|2017-04-04 20:00:00|\n",
      "|2017|   March| 19|   4|   Sunday|   2017-March-19|  4:00:00|2017-03-19 04:00:00|\n",
      "|2017|   March| 21|   9|  Tuesday|   2017-March-21|  9:00:00|2017-03-21 09:00:00|\n",
      "|2017|   March| 21|  16|  Tuesday|   2017-March-21| 16:00:00|2017-03-21 16:00:00|\n",
      "|2017|   March|  9|  16| Thursday|    2017-March-9| 16:00:00|2017-03-09 16:00:00|\n",
      "|2017|   March| 27|  13|   Monday|   2017-March-27| 13:00:00|2017-03-27 13:00:00|\n",
      "|2017|February| 23|   6| Thursday|2017-February-23|  6:00:00|2017-02-23 06:00:00|\n",
      "|2017|   March| 12|   8|   Sunday|   2017-March-12|  8:00:00|2017-03-12 08:00:00|\n",
      "|2017|   March|  6|   1|   Monday|    2017-March-6|  1:00:00|2017-03-06 01:00:00|\n",
      "|2017|   March| 25|  21| Saturday|   2017-March-25| 21:00:00|2017-03-25 21:00:00|\n",
      "|2017|   March| 28|   1|  Tuesday|   2017-March-28|  1:00:00|2017-03-28 01:00:00|\n",
      "|2017|   March| 14|   0|  Tuesday|   2017-March-14|  0:00:00|2017-03-14 00:00:00|\n",
      "|2017|   March|  5|  10|   Sunday|    2017-March-5| 10:00:00|2017-03-05 10:00:00|\n",
      "|2017|February| 24|  16|   Friday|2017-February-24| 16:00:00|2017-02-24 16:00:00|\n",
      "|2017|   March| 15|  19|Wednesday|   2017-March-15| 19:00:00|2017-03-15 19:00:00|\n",
      "|2017|   March| 27|   5|   Monday|   2017-March-27|  5:00:00|2017-03-27 05:00:00|\n",
      "+----+--------+---+----+---------+----------------+---------+-------------------+\n",
      "only showing top 20 rows"
     ]
    }
   ],
   "source": [
    "pattern = 'yyyy-MMM-dd HH:mm:ss'\n",
    "date3= date2.withColumn('full_date_time', unix_timestamp(date2.full_date_time, pattern).cast('timestamp')).distinct()\n",
    "date3.show()"
   ]
  },
  {
   "cell_type": "code",
   "execution_count": 28,
   "id": "70e45f12",
   "metadata": {},
   "outputs": [
    {
     "data": {
      "application/vnd.jupyter.widget-view+json": {
       "model_id": "43f3e2b75639440e9f0cee674434a59d",
       "version_major": 2,
       "version_minor": 0
      },
      "text/plain": [
       "VBox()"
      ]
     },
     "metadata": {},
     "output_type": "display_data"
    },
    {
     "data": {
      "application/vnd.jupyter.widget-view+json": {
       "model_id": "",
       "version_major": 2,
       "version_minor": 0
      },
      "text/plain": [
       "FloatProgress(value=0.0, bar_style='info', description='Progress:', layout=Layout(height='25px', width='50%'),…"
      ]
     },
     "metadata": {},
     "output_type": "display_data"
    },
    {
     "name": "stdout",
     "output_type": "stream",
     "text": [
      "+-------------------+----+--------+---+----+---------+\n",
      "|     full_date_time|year|   month|day|hour|  weekday|\n",
      "+-------------------+----+--------+---+----+---------+\n",
      "|2017-03-16 20:00:00|2017|   March| 16|  20| Thursday|\n",
      "|2017-03-22 00:00:00|2017|   March| 22|   0|Wednesday|\n",
      "|2017-03-18 14:00:00|2017|   March| 18|  14| Saturday|\n",
      "|2017-02-21 18:00:00|2017|February| 21|  18|  Tuesday|\n",
      "|2017-04-04 20:00:00|2017|   April|  4|  20|  Tuesday|\n",
      "|2017-03-19 04:00:00|2017|   March| 19|   4|   Sunday|\n",
      "|2017-03-21 09:00:00|2017|   March| 21|   9|  Tuesday|\n",
      "|2017-03-21 16:00:00|2017|   March| 21|  16|  Tuesday|\n",
      "|2017-03-09 16:00:00|2017|   March|  9|  16| Thursday|\n",
      "|2017-03-27 13:00:00|2017|   March| 27|  13|   Monday|\n",
      "|2017-02-23 06:00:00|2017|February| 23|   6| Thursday|\n",
      "|2017-03-12 08:00:00|2017|   March| 12|   8|   Sunday|\n",
      "|2017-03-06 01:00:00|2017|   March|  6|   1|   Monday|\n",
      "|2017-03-25 21:00:00|2017|   March| 25|  21| Saturday|\n",
      "|2017-03-28 01:00:00|2017|   March| 28|   1|  Tuesday|\n",
      "|2017-03-14 00:00:00|2017|   March| 14|   0|  Tuesday|\n",
      "|2017-03-05 10:00:00|2017|   March|  5|  10|   Sunday|\n",
      "|2017-02-24 16:00:00|2017|February| 24|  16|   Friday|\n",
      "|2017-03-15 19:00:00|2017|   March| 15|  19|Wednesday|\n",
      "|2017-03-27 05:00:00|2017|   March| 27|   5|   Monday|\n",
      "+-------------------+----+--------+---+----+---------+\n",
      "only showing top 20 rows"
     ]
    }
   ],
   "source": [
    "date4=date3.select('full_date_time','year','month','day','hour','weekday')\n",
    "date4.show()"
   ]
  },
  {
   "cell_type": "code",
   "execution_count": 29,
   "id": "0900ecf0",
   "metadata": {},
   "outputs": [
    {
     "data": {
      "application/vnd.jupyter.widget-view+json": {
       "model_id": "153738f55ef54fa4976db6cfd58d1261",
       "version_major": 2,
       "version_minor": 0
      },
      "text/plain": [
       "VBox()"
      ]
     },
     "metadata": {},
     "output_type": "display_data"
    },
    {
     "data": {
      "application/vnd.jupyter.widget-view+json": {
       "model_id": "",
       "version_major": 2,
       "version_minor": 0
      },
      "text/plain": [
       "FloatProgress(value=0.0, bar_style='info', description='Progress:', layout=Layout(height='25px', width='50%'),…"
      ]
     },
     "metadata": {},
     "output_type": "display_data"
    },
    {
     "name": "stdout",
     "output_type": "stream",
     "text": [
      "+-------------------+----+-------+---+----+-------+-------+\n",
      "|     full_date_time|year|  month|day|hour|weekday|date_id|\n",
      "+-------------------+----+-------+---+----+-------+-------+\n",
      "|2017-01-01 00:00:00|2017|January|  1|   0| Sunday|      1|\n",
      "|2017-01-01 01:00:00|2017|January|  1|   1| Sunday|      2|\n",
      "|2017-01-01 02:00:00|2017|January|  1|   2| Sunday|      3|\n",
      "|2017-01-01 03:00:00|2017|January|  1|   3| Sunday|      4|\n",
      "|2017-01-01 04:00:00|2017|January|  1|   4| Sunday|      5|\n",
      "|2017-01-01 05:00:00|2017|January|  1|   5| Sunday|      6|\n",
      "|2017-01-01 06:00:00|2017|January|  1|   6| Sunday|      7|\n",
      "|2017-01-01 07:00:00|2017|January|  1|   7| Sunday|      8|\n",
      "|2017-01-01 08:00:00|2017|January|  1|   8| Sunday|      9|\n",
      "|2017-01-01 09:00:00|2017|January|  1|   9| Sunday|     10|\n",
      "|2017-01-01 10:00:00|2017|January|  1|  10| Sunday|     11|\n",
      "|2017-01-01 11:00:00|2017|January|  1|  11| Sunday|     12|\n",
      "|2017-01-01 12:00:00|2017|January|  1|  12| Sunday|     13|\n",
      "|2017-01-01 13:00:00|2017|January|  1|  13| Sunday|     14|\n",
      "|2017-01-01 14:00:00|2017|January|  1|  14| Sunday|     15|\n",
      "|2017-01-01 15:00:00|2017|January|  1|  15| Sunday|     16|\n",
      "|2017-01-01 16:00:00|2017|January|  1|  16| Sunday|     17|\n",
      "|2017-01-01 17:00:00|2017|January|  1|  17| Sunday|     18|\n",
      "|2017-01-01 18:00:00|2017|January|  1|  18| Sunday|     19|\n",
      "|2017-01-01 19:00:00|2017|January|  1|  19| Sunday|     20|\n",
      "+-------------------+----+-------+---+----+-------+-------+\n",
      "only showing top 20 rows"
     ]
    }
   ],
   "source": [
    "date5= date4.select('full_date_time','year','month','day','hour','weekday', row_number().over(Window.partitionBy().orderBy(date4['full_date_time'])).alias(\"date_id\"))\n",
    "date5.show()"
   ]
  },
  {
   "cell_type": "code",
   "execution_count": 30,
   "id": "cd553ff8",
   "metadata": {},
   "outputs": [
    {
     "data": {
      "application/vnd.jupyter.widget-view+json": {
       "model_id": "2836d3e289cc44dfa464c77609a74562",
       "version_major": 2,
       "version_minor": 0
      },
      "text/plain": [
       "VBox()"
      ]
     },
     "metadata": {},
     "output_type": "display_data"
    },
    {
     "data": {
      "application/vnd.jupyter.widget-view+json": {
       "model_id": "",
       "version_major": 2,
       "version_minor": 0
      },
      "text/plain": [
       "FloatProgress(value=0.0, bar_style='info', description='Progress:', layout=Layout(height='25px', width='50%'),…"
      ]
     },
     "metadata": {},
     "output_type": "display_data"
    },
    {
     "name": "stdout",
     "output_type": "stream",
     "text": [
      "+-------+-------------------+----+-------+---+----+-------+\n",
      "|date_id|     full_date_time|year|  month|day|hour|weekday|\n",
      "+-------+-------------------+----+-------+---+----+-------+\n",
      "|      1|2017-01-01 00:00:00|2017|January|  1|   0| Sunday|\n",
      "|      2|2017-01-01 01:00:00|2017|January|  1|   1| Sunday|\n",
      "|      3|2017-01-01 02:00:00|2017|January|  1|   2| Sunday|\n",
      "|      4|2017-01-01 03:00:00|2017|January|  1|   3| Sunday|\n",
      "|      5|2017-01-01 04:00:00|2017|January|  1|   4| Sunday|\n",
      "|      6|2017-01-01 05:00:00|2017|January|  1|   5| Sunday|\n",
      "|      7|2017-01-01 06:00:00|2017|January|  1|   6| Sunday|\n",
      "|      8|2017-01-01 07:00:00|2017|January|  1|   7| Sunday|\n",
      "|      9|2017-01-01 08:00:00|2017|January|  1|   8| Sunday|\n",
      "|     10|2017-01-01 09:00:00|2017|January|  1|   9| Sunday|\n",
      "|     11|2017-01-01 10:00:00|2017|January|  1|  10| Sunday|\n",
      "|     12|2017-01-01 11:00:00|2017|January|  1|  11| Sunday|\n",
      "|     13|2017-01-01 12:00:00|2017|January|  1|  12| Sunday|\n",
      "|     14|2017-01-01 13:00:00|2017|January|  1|  13| Sunday|\n",
      "|     15|2017-01-01 14:00:00|2017|January|  1|  14| Sunday|\n",
      "|     16|2017-01-01 15:00:00|2017|January|  1|  15| Sunday|\n",
      "|     17|2017-01-01 16:00:00|2017|January|  1|  16| Sunday|\n",
      "|     18|2017-01-01 17:00:00|2017|January|  1|  17| Sunday|\n",
      "|     19|2017-01-01 18:00:00|2017|January|  1|  18| Sunday|\n",
      "|     20|2017-01-01 19:00:00|2017|January|  1|  19| Sunday|\n",
      "+-------+-------------------+----+-------+---+----+-------+\n",
      "only showing top 20 rows"
     ]
    }
   ],
   "source": [
    "DIM_DATE=date5.select('date_id','full_date_time','year','month','day','hour','weekday')\n",
    "DIM_DATE.show()"
   ]
  },
  {
   "cell_type": "code",
   "execution_count": 31,
   "id": "3dd30a40",
   "metadata": {},
   "outputs": [
    {
     "data": {
      "application/vnd.jupyter.widget-view+json": {
       "model_id": "407bc082cf994c2b84ca87bf104b72b2",
       "version_major": 2,
       "version_minor": 0
      },
      "text/plain": [
       "VBox()"
      ]
     },
     "metadata": {},
     "output_type": "display_data"
    },
    {
     "data": {
      "application/vnd.jupyter.widget-view+json": {
       "model_id": "",
       "version_major": 2,
       "version_minor": 0
      },
      "text/plain": [
       "FloatProgress(value=0.0, bar_style='info', description='Progress:', layout=Layout(height='25px', width='50%'),…"
      ]
     },
     "metadata": {},
     "output_type": "display_data"
    },
    {
     "name": "stdout",
     "output_type": "stream",
     "text": [
      "8685"
     ]
    }
   ],
   "source": [
    "DIM_DATE.count()"
   ]
  },
  {
   "cell_type": "markdown",
   "id": "f8424d2b",
   "metadata": {},
   "source": [
    "# Creating Schema for DIM CARD"
   ]
  },
  {
   "cell_type": "code",
   "execution_count": 32,
   "id": "6106cea9",
   "metadata": {},
   "outputs": [
    {
     "data": {
      "application/vnd.jupyter.widget-view+json": {
       "model_id": "0ad0b7282e384453b5f3a4f90f61533c",
       "version_major": 2,
       "version_minor": 0
      },
      "text/plain": [
       "VBox()"
      ]
     },
     "metadata": {},
     "output_type": "display_data"
    },
    {
     "data": {
      "application/vnd.jupyter.widget-view+json": {
       "model_id": "",
       "version_major": 2,
       "version_minor": 0
      },
      "text/plain": [
       "FloatProgress(value=0.0, bar_style='info', description='Progress:', layout=Layout(height='25px', width='50%'),…"
      ]
     },
     "metadata": {},
     "output_type": "display_data"
    }
   ],
   "source": [
    "# creating a temporary df and selecting required columns\n",
    "card = df1.select('card_type').distinct()"
   ]
  },
  {
   "cell_type": "code",
   "execution_count": 33,
   "id": "6988688b",
   "metadata": {},
   "outputs": [
    {
     "data": {
      "application/vnd.jupyter.widget-view+json": {
       "model_id": "7795f1a7cc904015be87323ced4a1d59",
       "version_major": 2,
       "version_minor": 0
      },
      "text/plain": [
       "VBox()"
      ]
     },
     "metadata": {},
     "output_type": "display_data"
    },
    {
     "data": {
      "application/vnd.jupyter.widget-view+json": {
       "model_id": "",
       "version_major": 2,
       "version_minor": 0
      },
      "text/plain": [
       "FloatProgress(value=0.0, bar_style='info', description='Progress:', layout=Layout(height='25px', width='50%'),…"
      ]
     },
     "metadata": {},
     "output_type": "display_data"
    },
    {
     "name": "stdout",
     "output_type": "stream",
     "text": [
      "+--------------------+------------+\n",
      "|           card_type|card_type_id|\n",
      "+--------------------+------------+\n",
      "|              CIRRUS|           1|\n",
      "|             Dankort|           2|\n",
      "|     Dankort - on-us|           3|\n",
      "|         HÃƒÂ¦vekort|           4|\n",
      "| HÃƒÂ¦vekort - on-us|           5|\n",
      "|             Maestro|           6|\n",
      "|          MasterCard|           7|\n",
      "|  Mastercard - on-us|           8|\n",
      "|                VISA|           9|\n",
      "|        Visa Dankort|          10|\n",
      "|Visa Dankort - on-us|          11|\n",
      "|            VisaPlus|          12|\n",
      "+--------------------+------------+"
     ]
    }
   ],
   "source": [
    "card1= card.select('card_type', row_number().over(Window.partitionBy().orderBy(card['card_type'])).alias(\"card_type_id\"))\n",
    "card1.show()"
   ]
  },
  {
   "cell_type": "code",
   "execution_count": 34,
   "id": "3aa8572b",
   "metadata": {},
   "outputs": [
    {
     "data": {
      "application/vnd.jupyter.widget-view+json": {
       "model_id": "c20b3a61c8d34a56904d8388071e8744",
       "version_major": 2,
       "version_minor": 0
      },
      "text/plain": [
       "VBox()"
      ]
     },
     "metadata": {},
     "output_type": "display_data"
    },
    {
     "data": {
      "application/vnd.jupyter.widget-view+json": {
       "model_id": "",
       "version_major": 2,
       "version_minor": 0
      },
      "text/plain": [
       "FloatProgress(value=0.0, bar_style='info', description='Progress:', layout=Layout(height='25px', width='50%'),…"
      ]
     },
     "metadata": {},
     "output_type": "display_data"
    },
    {
     "name": "stdout",
     "output_type": "stream",
     "text": [
      "12"
     ]
    }
   ],
   "source": [
    "#Check count for the Card Type Dimension\n",
    "DIM_CARD_TYPE=card1.select('card_type_id','card_type')\n",
    "DIM_CARD_TYPE.count()"
   ]
  },
  {
   "cell_type": "markdown",
   "id": "bd2de1b6",
   "metadata": {},
   "source": [
    "# 4.Required FACT_ATM_TRANS schema"
   ]
  },
  {
   "cell_type": "markdown",
   "id": "21455e14",
   "metadata": {},
   "source": [
    "##First stage\n",
    "joining the main dataframe with the DIM_LOCATION to get weather_loaction_id"
   ]
  },
  {
   "cell_type": "code",
   "execution_count": 36,
   "id": "adef0a63",
   "metadata": {},
   "outputs": [
    {
     "data": {
      "application/vnd.jupyter.widget-view+json": {
       "model_id": "5545e305aef2404ebca287432f6ffa2c",
       "version_major": 2,
       "version_minor": 0
      },
      "text/plain": [
       "VBox()"
      ]
     },
     "metadata": {},
     "output_type": "display_data"
    },
    {
     "data": {
      "application/vnd.jupyter.widget-view+json": {
       "model_id": "",
       "version_major": 2,
       "version_minor": 0
      },
      "text/plain": [
       "FloatProgress(value=0.0, bar_style='info', description='Progress:', layout=Layout(height='25px', width='50%'),…"
      ]
     },
     "metadata": {},
     "output_type": "display_data"
    }
   ],
   "source": [
    "# joining the dfs\n",
    "fact_loc = df1.join(DIM_LOCATION, on = ['atm_location','atm_streetname','atm_street_number','atm_zipcode','atm_lat','atm_lon'], how = \"left\")"
   ]
  },
  {
   "cell_type": "code",
   "execution_count": 37,
   "id": "34a6e3a5",
   "metadata": {},
   "outputs": [
    {
     "data": {
      "application/vnd.jupyter.widget-view+json": {
       "model_id": "07ebc0fdf3164b468a29fbe031b61e53",
       "version_major": 2,
       "version_minor": 0
      },
      "text/plain": [
       "VBox()"
      ]
     },
     "metadata": {},
     "output_type": "display_data"
    },
    {
     "data": {
      "application/vnd.jupyter.widget-view+json": {
       "model_id": "",
       "version_major": 2,
       "version_minor": 0
      },
      "text/plain": [
       "FloatProgress(value=0.0, bar_style='info', description='Progress:', layout=Layout(height='25px', width='50%'),…"
      ]
     },
     "metadata": {},
     "output_type": "display_data"
    },
    {
     "name": "stdout",
     "output_type": "stream",
     "text": [
      "2468572"
     ]
    }
   ],
   "source": [
    "# Validating the count of the df at the end of Stage 1\n",
    "fact_loc.count()"
   ]
  },
  {
   "cell_type": "markdown",
   "id": "c2423e29",
   "metadata": {},
   "source": [
    "# second stage\n",
    "joining the fact_loc with the DIM_ATM to get atm_id"
   ]
  },
  {
   "cell_type": "code",
   "execution_count": 38,
   "id": "5b620da9",
   "metadata": {},
   "outputs": [
    {
     "data": {
      "application/vnd.jupyter.widget-view+json": {
       "model_id": "cc142819aea347ec82b45f6cf50f4985",
       "version_major": 2,
       "version_minor": 0
      },
      "text/plain": [
       "VBox()"
      ]
     },
     "metadata": {},
     "output_type": "display_data"
    },
    {
     "data": {
      "application/vnd.jupyter.widget-view+json": {
       "model_id": "",
       "version_major": 2,
       "version_minor": 0
      },
      "text/plain": [
       "FloatProgress(value=0.0, bar_style='info', description='Progress:', layout=Layout(height='25px', width='50%'),…"
      ]
     },
     "metadata": {},
     "output_type": "display_data"
    }
   ],
   "source": [
    "# joining the dfs\n",
    "fact_loc_atm = fact_loc.join(DIM_ATM, on = ['atm_id', 'atm_manufacturer', 'location_id'], how = \"left\")"
   ]
  },
  {
   "cell_type": "code",
   "execution_count": 39,
   "id": "2cb8c8e0",
   "metadata": {},
   "outputs": [
    {
     "data": {
      "application/vnd.jupyter.widget-view+json": {
       "model_id": "e60a82d8c36a432b8daf53d7c68247e8",
       "version_major": 2,
       "version_minor": 0
      },
      "text/plain": [
       "VBox()"
      ]
     },
     "metadata": {},
     "output_type": "display_data"
    },
    {
     "data": {
      "application/vnd.jupyter.widget-view+json": {
       "model_id": "",
       "version_major": 2,
       "version_minor": 0
      },
      "text/plain": [
       "FloatProgress(value=0.0, bar_style='info', description='Progress:', layout=Layout(height='25px', width='50%'),…"
      ]
     },
     "metadata": {},
     "output_type": "display_data"
    },
    {
     "name": "stdout",
     "output_type": "stream",
     "text": [
      "2468572"
     ]
    }
   ],
   "source": [
    "# Validating the count of the df at the end of Stage 2\n",
    "fact_loc_atm.count()"
   ]
  },
  {
   "cell_type": "markdown",
   "id": "19c3a30b",
   "metadata": {},
   "source": [
    "# Third stage\n",
    "joining the fact_loc_atm with the DIM_DTAE to get date_id"
   ]
  },
  {
   "cell_type": "code",
   "execution_count": 40,
   "id": "b2fba9ce",
   "metadata": {},
   "outputs": [
    {
     "data": {
      "application/vnd.jupyter.widget-view+json": {
       "model_id": "5444f7fba2344ddcb9baf3458fbc4caa",
       "version_major": 2,
       "version_minor": 0
      },
      "text/plain": [
       "VBox()"
      ]
     },
     "metadata": {},
     "output_type": "display_data"
    },
    {
     "data": {
      "application/vnd.jupyter.widget-view+json": {
       "model_id": "",
       "version_major": 2,
       "version_minor": 0
      },
      "text/plain": [
       "FloatProgress(value=0.0, bar_style='info', description='Progress:', layout=Layout(height='25px', width='50%'),…"
      ]
     },
     "metadata": {},
     "output_type": "display_data"
    }
   ],
   "source": [
    "fact_loc_atm_date = fact_loc_atm.join(DIM_DATE, on = ['year', 'month', 'day', 'hour', 'weekday'], how = \"left\")"
   ]
  },
  {
   "cell_type": "code",
   "execution_count": 41,
   "id": "0d6201dc",
   "metadata": {},
   "outputs": [
    {
     "data": {
      "application/vnd.jupyter.widget-view+json": {
       "model_id": "07471a9c81874bd39e7ccd94f05e3d4f",
       "version_major": 2,
       "version_minor": 0
      },
      "text/plain": [
       "VBox()"
      ]
     },
     "metadata": {},
     "output_type": "display_data"
    },
    {
     "data": {
      "application/vnd.jupyter.widget-view+json": {
       "model_id": "",
       "version_major": 2,
       "version_minor": 0
      },
      "text/plain": [
       "FloatProgress(value=0.0, bar_style='info', description='Progress:', layout=Layout(height='25px', width='50%'),…"
      ]
     },
     "metadata": {},
     "output_type": "display_data"
    },
    {
     "name": "stdout",
     "output_type": "stream",
     "text": [
      "2468572"
     ]
    }
   ],
   "source": [
    "# Validating the count of the df at the end of Stage 3\n",
    "fact_loc_atm_date.count()"
   ]
  },
  {
   "cell_type": "markdown",
   "id": "74b75bc0",
   "metadata": {},
   "source": [
    "# Fourth stage\n",
    "joining the fact_loc_atm_date with the DIM_CARD_TYPE to get card_type_id"
   ]
  },
  {
   "cell_type": "code",
   "execution_count": 42,
   "id": "ce96d7e3",
   "metadata": {},
   "outputs": [
    {
     "data": {
      "application/vnd.jupyter.widget-view+json": {
       "model_id": "fdf02121a09a493293c92cb280002b80",
       "version_major": 2,
       "version_minor": 0
      },
      "text/plain": [
       "VBox()"
      ]
     },
     "metadata": {},
     "output_type": "display_data"
    },
    {
     "data": {
      "application/vnd.jupyter.widget-view+json": {
       "model_id": "",
       "version_major": 2,
       "version_minor": 0
      },
      "text/plain": [
       "FloatProgress(value=0.0, bar_style='info', description='Progress:', layout=Layout(height='25px', width='50%'),…"
      ]
     },
     "metadata": {},
     "output_type": "display_data"
    }
   ],
   "source": [
    "fact_loc_atm_date_card = fact_loc_atm_date.join(DIM_CARD_TYPE, on = ['card_type'], how = \"left\")"
   ]
  },
  {
   "cell_type": "code",
   "execution_count": 43,
   "id": "320f57f1",
   "metadata": {},
   "outputs": [
    {
     "data": {
      "application/vnd.jupyter.widget-view+json": {
       "model_id": "95b8fea60a7144f3940c542d38cb8147",
       "version_major": 2,
       "version_minor": 0
      },
      "text/plain": [
       "VBox()"
      ]
     },
     "metadata": {},
     "output_type": "display_data"
    },
    {
     "data": {
      "application/vnd.jupyter.widget-view+json": {
       "model_id": "",
       "version_major": 2,
       "version_minor": 0
      },
      "text/plain": [
       "FloatProgress(value=0.0, bar_style='info', description='Progress:', layout=Layout(height='25px', width='50%'),…"
      ]
     },
     "metadata": {},
     "output_type": "display_data"
    },
    {
     "name": "stdout",
     "output_type": "stream",
     "text": [
      "2468572"
     ]
    }
   ],
   "source": [
    "# Validating the count of the df at the end of Stage 4\n",
    "fact_loc_atm_date_card.count()"
   ]
  },
  {
   "cell_type": "code",
   "execution_count": 44,
   "id": "31ae5364",
   "metadata": {},
   "outputs": [
    {
     "data": {
      "application/vnd.jupyter.widget-view+json": {
       "model_id": "dc992d6ddf204a4bbf55851b5c361cdc",
       "version_major": 2,
       "version_minor": 0
      },
      "text/plain": [
       "VBox()"
      ]
     },
     "metadata": {},
     "output_type": "display_data"
    },
    {
     "data": {
      "application/vnd.jupyter.widget-view+json": {
       "model_id": "",
       "version_major": 2,
       "version_minor": 0
      },
      "text/plain": [
       "FloatProgress(value=0.0, bar_style='info', description='Progress:', layout=Layout(height='25px', width='50%'),…"
      ]
     },
     "metadata": {},
     "output_type": "display_data"
    },
    {
     "name": "stdout",
     "output_type": "stream",
     "text": [
      "+------------------+----+-------+---+----+-------+------+----------------+-----------+------------+-----------------+-----------------+-----------+-------+-------+----------+--------+------------------+----------+------------+------------+-----------+-----------+---------------+-----------------+------+--------+--------+----------+--------+-------+----------+----------+------------+--------------------+---------+-------+-------------------+------------+--------+\n",
      "|         card_type|year|  month|day|hour|weekday|atm_id|atm_manufacturer|location_id|atm_location|   atm_streetname|atm_street_number|atm_zipcode|atm_lat|atm_lon|atm_status|currency|transaction_amount|   service|message_code|message_text|weather_lat|weather_lon|weather_city_id|weather_city_name|  temp|pressure|humidity|wind_speed|wind_deg|rain_3h|clouds_all|weather_id|weather_main| weather_description|atm_index|date_id|     full_date_time|card_type_id|trans_id|\n",
      "+------------------+----+-------+---+----+-------+------+----------------+-----------+------------+-----------------+-----------------+-----------+-------+-------+----------+--------+------------------+----------+------------+------------+-----------+-----------+---------------+-----------------+------+--------+--------+----------+--------+-------+----------+----------+------------+--------------------+---------+-------+-------------------+------------+--------+\n",
      "|              VISA|2017|January|  1|   0| Sunday|    18| Diebold Nixdorf|        105|      Viborg|        Toldboden|                3|       8800| 56.448|  9.401|    Active|     DKK|              4062|Withdrawal|        null|        null|     56.453|      9.402|        2610319|           Viborg|281.15|    1012|     100|         7|     240|    0.0|        75|       300|     Drizzle|light intensity d...|       20|      1|2017-01-01 00:00:00|           9|       1|\n",
      "|Mastercard - on-us|2017|January|  1|   0| Sunday|     7| Diebold Nixdorf|         38|   Hjallerup|Hjallerup Centret|               18|       9320| 57.168| 10.148|    Active|     DKK|              4626|Withdrawal|        null|        null|     57.165|     10.146|        2620275|        Hjallerup|280.64|    1020|      93|         9|     250|   0.59|        92|       500|        Rain|          light rain|        1|      1|2017-01-01 00:00:00|           8|       2|\n",
      "|Mastercard - on-us|2017|January|  1|   0| Sunday|    24|             NCR|         40|       Hobro|         Adelgade|               31|       9500| 56.638|  9.794|    Active|     DKK|              7768|Withdrawal|        null|        null|     56.643|       9.79|        2620167|            Hobro|280.64|    1020|      93|         9|     250|   0.59|        92|       500|        Rain|          light rain|       81|      1|2017-01-01 00:00:00|           8|       3|\n",
      "|        MasterCard|2017|January|  1|   0| Sunday|    19|             NCR|         62|     Kolding|         Vejlevej|              135|       6000| 55.505|  9.457|    Active|     DKK|              7951|Withdrawal|        null|        null|      55.49|      9.472|        2618528|          Kolding|281.15|    1015|      93|         8|     240|   0.25|        92|       500|        Rain|          light rain|       44|      1|2017-01-01 00:00:00|           7|       4|\n",
      "|        MasterCard|2017|January|  1|   0| Sunday|    15|             NCR|        104|      Vestre|        Kastetvej|               36|       9000| 57.053|  9.905|    Active|     DKK|               594|Withdrawal|        null|        null|     57.048|      9.919|        2624886|          Aalborg|280.64|    1020|      93|         9|     250|   0.59|        92|       500|        Rain|          light rain|      103|      1|2017-01-01 00:00:00|           7|       5|\n",
      "+------------------+----+-------+---+----+-------+------+----------------+-----------+------------+-----------------+-----------------+-----------+-------+-------+----------+--------+------------------+----------+------------+------------+-----------+-----------+---------------+-----------------+------+--------+--------+----------+--------+-------+----------+----------+------------+--------------------+---------+-------+-------------------+------------+--------+\n",
      "only showing top 5 rows"
     ]
    }
   ],
   "source": [
    "from pyspark.sql.window import Window\n",
    "\n",
    "w = Window().orderBy('date_id')\n",
    "FACT_ATM_TRANS = fact_loc_atm_date_card.withColumn(\"trans_id\", row_number().over(w))\n",
    "FACT_ATM_TRANS.show(5, True)"
   ]
  },
  {
   "cell_type": "code",
   "execution_count": 45,
   "id": "41119972",
   "metadata": {},
   "outputs": [
    {
     "data": {
      "application/vnd.jupyter.widget-view+json": {
       "model_id": "e6a5b04581094240aa0d3c5e270fb489",
       "version_major": 2,
       "version_minor": 0
      },
      "text/plain": [
       "VBox()"
      ]
     },
     "metadata": {},
     "output_type": "display_data"
    },
    {
     "data": {
      "application/vnd.jupyter.widget-view+json": {
       "model_id": "",
       "version_major": 2,
       "version_minor": 0
      },
      "text/plain": [
       "FloatProgress(value=0.0, bar_style='info', description='Progress:', layout=Layout(height='25px', width='50%'),…"
      ]
     },
     "metadata": {},
     "output_type": "display_data"
    }
   ],
   "source": [
    "# selecting and arranging only the required columns according to the target model\n",
    "FACT_ATM_TRANS = FACT_ATM_TRANS.select('trans_id','atm_index','location_id','date_id','card_type_id','atm_status','currency', 'service', 'transaction_amount','message_code','message_text',\n",
    "'rain_3h','clouds_all', 'weather_id', 'weather_main', 'weather_description')"
   ]
  },
  {
   "cell_type": "code",
   "execution_count": 46,
   "id": "14f59e91",
   "metadata": {},
   "outputs": [
    {
     "data": {
      "application/vnd.jupyter.widget-view+json": {
       "model_id": "bd8136a2dbad4633bb05cf85d535e1f3",
       "version_major": 2,
       "version_minor": 0
      },
      "text/plain": [
       "VBox()"
      ]
     },
     "metadata": {},
     "output_type": "display_data"
    },
    {
     "data": {
      "application/vnd.jupyter.widget-view+json": {
       "model_id": "",
       "version_major": 2,
       "version_minor": 0
      },
      "text/plain": [
       "FloatProgress(value=0.0, bar_style='info', description='Progress:', layout=Layout(height='25px', width='50%'),…"
      ]
     },
     "metadata": {},
     "output_type": "display_data"
    },
    {
     "name": "stdout",
     "output_type": "stream",
     "text": [
      "['trans_id', 'atm_index', 'location_id', 'date_id', 'card_type_id', 'atm_status', 'currency', 'service', 'transaction_amount', 'message_code', 'message_text', 'rain_3h', 'clouds_all', 'weather_id', 'weather_main', 'weather_description']"
     ]
    }
   ],
   "source": [
    "# checking that all required columns are present and named correctly\n",
    "FACT_ATM_TRANS.columns"
   ]
  },
  {
   "cell_type": "code",
   "execution_count": 47,
   "id": "024c81e9",
   "metadata": {},
   "outputs": [
    {
     "data": {
      "application/vnd.jupyter.widget-view+json": {
       "model_id": "46f0ca52b6ff49b7a2bc81d0bc6117e6",
       "version_major": 2,
       "version_minor": 0
      },
      "text/plain": [
       "VBox()"
      ]
     },
     "metadata": {},
     "output_type": "display_data"
    },
    {
     "data": {
      "application/vnd.jupyter.widget-view+json": {
       "model_id": "",
       "version_major": 2,
       "version_minor": 0
      },
      "text/plain": [
       "FloatProgress(value=0.0, bar_style='info', description='Progress:', layout=Layout(height='25px', width='50%'),…"
      ]
     },
     "metadata": {},
     "output_type": "display_data"
    },
    {
     "name": "stdout",
     "output_type": "stream",
     "text": [
      "2468572"
     ]
    }
   ],
   "source": [
    "# validating the count of the dataframe\n",
    "FACT_ATM_TRANS.count()"
   ]
  },
  {
   "cell_type": "markdown",
   "id": "de4e6898",
   "metadata": {},
   "source": [
    "# Writing the PySpark Dataframes to AWS S3 Storage in csv format"
   ]
  },
  {
   "cell_type": "code",
   "execution_count": 48,
   "id": "deb0ce1d",
   "metadata": {},
   "outputs": [
    {
     "data": {
      "application/vnd.jupyter.widget-view+json": {
       "model_id": "d550f7c245044bc5a2a4cf67edfe3522",
       "version_major": 2,
       "version_minor": 0
      },
      "text/plain": [
       "VBox()"
      ]
     },
     "metadata": {},
     "output_type": "display_data"
    },
    {
     "data": {
      "application/vnd.jupyter.widget-view+json": {
       "model_id": "",
       "version_major": 2,
       "version_minor": 0
      },
      "text/plain": [
       "FloatProgress(value=0.0, bar_style='info', description='Progress:', layout=Layout(height='25px', width='50%'),…"
      ]
     },
     "metadata": {},
     "output_type": "display_data"
    }
   ],
   "source": [
    "# writing data from pyspark df 'dim_location' in csv format to dim_location\n",
    "DIM_LOCATION.write.format('csv').option('header','false').save('s3://etlprojectbygopesh/dim_location/', mode='overwrite')\n"
   ]
  },
  {
   "cell_type": "code",
   "execution_count": 49,
   "id": "89dc766c",
   "metadata": {},
   "outputs": [
    {
     "data": {
      "application/vnd.jupyter.widget-view+json": {
       "model_id": "d1f94102cf2846c9a7843f1b70649fc3",
       "version_major": 2,
       "version_minor": 0
      },
      "text/plain": [
       "VBox()"
      ]
     },
     "metadata": {},
     "output_type": "display_data"
    },
    {
     "data": {
      "application/vnd.jupyter.widget-view+json": {
       "model_id": "",
       "version_major": 2,
       "version_minor": 0
      },
      "text/plain": [
       "FloatProgress(value=0.0, bar_style='info', description='Progress:', layout=Layout(height='25px', width='50%'),…"
      ]
     },
     "metadata": {},
     "output_type": "display_data"
    }
   ],
   "source": [
    "# writing data from pyspark df 'dim_atm' in csv format to dim\n",
    "DIM_ATM.write.format('csv').option('header','false').save('s3://etlprojectbygopesh/dim_atm/', mode='overwrite')"
   ]
  },
  {
   "cell_type": "code",
   "execution_count": 50,
   "id": "27ae9d11",
   "metadata": {},
   "outputs": [
    {
     "data": {
      "application/vnd.jupyter.widget-view+json": {
       "model_id": "a38333d332b54d9bba9245067ed26a62",
       "version_major": 2,
       "version_minor": 0
      },
      "text/plain": [
       "VBox()"
      ]
     },
     "metadata": {},
     "output_type": "display_data"
    },
    {
     "data": {
      "application/vnd.jupyter.widget-view+json": {
       "model_id": "",
       "version_major": 2,
       "version_minor": 0
      },
      "text/plain": [
       "FloatProgress(value=0.0, bar_style='info', description='Progress:', layout=Layout(height='25px', width='50%'),…"
      ]
     },
     "metadata": {},
     "output_type": "display_data"
    }
   ],
   "source": [
    "# writing data from pyspark df 'dim_data' in csv format to dim_data folder in S3 bucket 'etlprojectbydheerajmishra'\n",
    "\n",
    "DIM_DATE.write.format('csv').option('header','false').save('s3://etlprojectbygopesh/dim_date/', mode='overwrite')"
   ]
  },
  {
   "cell_type": "code",
   "execution_count": 51,
   "id": "c1a1895e",
   "metadata": {},
   "outputs": [
    {
     "data": {
      "application/vnd.jupyter.widget-view+json": {
       "model_id": "aa5291e06cd14a3fb265e8feea1f38e0",
       "version_major": 2,
       "version_minor": 0
      },
      "text/plain": [
       "VBox()"
      ]
     },
     "metadata": {},
     "output_type": "display_data"
    },
    {
     "data": {
      "application/vnd.jupyter.widget-view+json": {
       "model_id": "",
       "version_major": 2,
       "version_minor": 0
      },
      "text/plain": [
       "FloatProgress(value=0.0, bar_style='info', description='Progress:', layout=Layout(height='25px', width='50%'),…"
      ]
     },
     "metadata": {},
     "output_type": "display_data"
    }
   ],
   "source": [
    "# writing data from pyspark df 'dim_card_type' in csv format to dim_card_type folder in S3 bucket 'etlprojectbydheerajmishra'\n",
    "DIM_CARD_TYPE.write.format('csv').option('header','false').save('s3://etlprojectbygopesh/dim_card_typ/', mode='overwrite')"
   ]
  },
  {
   "cell_type": "code",
   "execution_count": 52,
   "id": "9abcb559",
   "metadata": {},
   "outputs": [
    {
     "data": {
      "application/vnd.jupyter.widget-view+json": {
       "model_id": "a6bf2636c7014a7db59b4c8e6d04ce6d",
       "version_major": 2,
       "version_minor": 0
      },
      "text/plain": [
       "VBox()"
      ]
     },
     "metadata": {},
     "output_type": "display_data"
    },
    {
     "data": {
      "application/vnd.jupyter.widget-view+json": {
       "model_id": "",
       "version_major": 2,
       "version_minor": 0
      },
      "text/plain": [
       "FloatProgress(value=0.0, bar_style='info', description='Progress:', layout=Layout(height='25px', width='50%'),…"
      ]
     },
     "metadata": {},
     "output_type": "display_data"
    }
   ],
   "source": [
    "# writing data from pyspark df 'fact_atm_trans' in csv format to fact_atm_trans folder in S3 bucket 'etlprojectbydheerajmishra'\n",
    "FACT_ATM_TRANS.write.format('csv').option('header','false').save('s3://etlprojectbygopesh/fact_atm/', mode='overwrite')"
   ]
  },
  {
   "cell_type": "code",
   "execution_count": null,
   "id": "6872459f",
   "metadata": {},
   "outputs": [],
   "source": []
  },
  {
   "cell_type": "code",
   "execution_count": null,
   "id": "494d64b9",
   "metadata": {},
   "outputs": [],
   "source": []
  }
 ],
 "metadata": {
  "kernelspec": {
   "display_name": "PySpark",
   "language": "",
   "name": "pysparkkernel"
  },
  "language_info": {
   "codemirror_mode": {
    "name": "python",
    "version": 2
   },
   "mimetype": "text/x-python",
   "name": "pyspark",
   "pygments_lexer": "python2"
  }
 },
 "nbformat": 4,
 "nbformat_minor": 5
}
